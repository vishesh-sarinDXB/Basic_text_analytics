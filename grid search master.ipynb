{
 "cells": [
  {
   "cell_type": "code",
   "execution_count": 1,
   "metadata": {},
   "outputs": [
    {
     "name": "stderr",
     "output_type": "stream",
     "text": [
      "/home/swagmaster/anaconda3/envs/atab/lib/python3.7/site-packages/sklearn/externals/six.py:31: FutureWarning: The module is deprecated in version 0.21 and will be removed in version 0.23 since we've dropped support for Python 2.7. Please rely on the official version of six (https://pypi.org/project/six/).\n",
      "  \"(https://pypi.org/project/six/).\", FutureWarning)\n",
      "/home/swagmaster/anaconda3/envs/atab/lib/python3.7/site-packages/sklearn/externals/joblib/__init__.py:15: FutureWarning: sklearn.externals.joblib is deprecated in 0.21 and will be removed in 0.23. Please import this functionality directly from joblib, which can be installed with: pip install joblib. If this warning is raised when loading pickled models, you may need to re-serialize those models with scikit-learn 0.21+.\n",
      "  warnings.warn(msg, category=FutureWarning)\n"
     ]
    }
   ],
   "source": [
    "import pandas as pd\n",
    "import numpy as np\n",
    "%matplotlib inline\n",
    "import matplotlib as mpl\n",
    "import matplotlib.pyplot as plt\n",
    "import string\n",
    "import nltk\n",
    "import sklearn\n",
    "import re\n",
    "import mglearn as mglearn\n",
    "\n",
    "from nltk.stem import WordNetLemmatizer\n",
    "from nltk.corpus import stopwords\n",
    "from nltk.stem.snowball import SnowballStemmer\n",
    "from sklearn.model_selection import train_test_split\n",
    "from sklearn.model_selection import GridSearchCV\n",
    "from sklearn.metrics import classification_report\n",
    "from sklearn.feature_extraction.text import CountVectorizer"
   ]
  },
  {
   "cell_type": "code",
   "execution_count": 2,
   "metadata": {},
   "outputs": [],
   "source": [
    "train = pd.read_csv('train2electricboogaloo.csv')\n",
    "\n",
    "train.Summary.fillna('', inplace=True)\n",
    "train.Text.fillna('', inplace=True)\n",
    "train.SumTxt.fillna('', inplace=True)"
   ]
  },
  {
   "cell_type": "code",
   "execution_count": 3,
   "metadata": {},
   "outputs": [],
   "source": [
    "train_set, test_set = train_test_split(train, test_size = 0.2, random_state = 42, stratify = train['Score'])\n",
    "train_text, train_score = train_set['SumTxt'], train_set['Score']\n",
    "test_text, test_score = test_set['SumTxt'], test_set['Score']"
   ]
  },
  {
   "cell_type": "code",
   "execution_count": 4,
   "metadata": {},
   "outputs": [],
   "source": [
    "text, score = train['SumTxt'], train['Score']"
   ]
  },
  {
   "cell_type": "code",
   "execution_count": 5,
   "metadata": {},
   "outputs": [],
   "source": [
    "stemmer = SnowballStemmer(\"english\")\n",
    "wnl = WordNetLemmatizer()\n",
    "stop_words = set(stopwords.words(\"english\"))"
   ]
  },
  {
   "cell_type": "code",
   "execution_count": null,
   "metadata": {},
   "outputs": [],
   "source": [
    "contractions_dict = { \n",
    "    \"ain\\'t\": \"am not\",\n",
    "    \"aren\\'t\": \"are not\",\n",
    "    \"can\\'t\": \"cannot\",\n",
    "    \"can\\'t\\'ve\": \"cannot have\",\n",
    "    \"\\'cause\": \"because\",\n",
    "    \"could\\'ve\": \"could have\",\n",
    "    \"couldn\\'t\": \"could not\",\n",
    "    \"couldn\\'t\\'ve\": \"could not have\",\n",
    "    \"didn\\'t\": \"did not\",\n",
    "    \"doesn\\'t\": \"does not\",\n",
    "    \"don\\'t\": \"do not\",\n",
    "    \"hadn\\'t\": \"had not\",\n",
    "    \"hadn\\'t\\'ve\": \"had not have\",\n",
    "    \"hasn\\'t\": \"has not\",\n",
    "    \"haven\\'t\": \"have not\",\n",
    "    \"he\\'d\": \"he had\",\n",
    "    \"he\\'d\\'ve\": \"he would have\",\n",
    "    \"he\\'ll\": \"he shall\",\n",
    "    \"he\\'ll\\'ve\": \"he shall have\",\n",
    "    \"he\\'s\": \"he has\",\n",
    "    \"how\\'d\": \"how did\",\n",
    "    \"how\\'d\\'y\": \"how do you\",\n",
    "    \"how\\'ll\": \"how will\",\n",
    "    \"how\\'s\": \"how has\",\n",
    "    \"I\\'d\": \"I had\",\n",
    "    \"I\\'d\\'ve\": \"I would have\",\n",
    "    \"I\\'ll\": \"I will\",\n",
    "    \"I\\'ll\\'ve\": \"I will have\",\n",
    "    \"I\\'m\": \"I am\",\n",
    "    \"I\\'ve\": \"I have\",\n",
    "    \"isn\\'t\": \"is not\",\n",
    "    \"it\\'d\": \"it would\",\n",
    "    \"it\\'d\\'ve\": \"it would have\",\n",
    "    \"it\\'ll\": \"it will\",\n",
    "    \"it\\'ll\\'ve\": \"it will have\",\n",
    "    \"it\\'s\": \"it is\",\n",
    "    \"let\\'s\": \"let us\",\n",
    "    \"ma\\'am\": \"madam\",\n",
    "    \"mayn\\'t\": \"may not\",\n",
    "    \"might\\'ve\": \"might have\",\n",
    "    \"mightn\\'t\": \"might not\",\n",
    "    \"mightn\\'t\\'ve\": \"might not have\",\n",
    "    \"must\\'ve\": \"must have\",\n",
    "    \"mustn\\'t\": \"must not\",\n",
    "    \"mustn\\'t\\'ve\": \"must not have\",\n",
    "    \"needn\\'t\": \"need not\",\n",
    "    \"needn\\'t\\'ve\": \"need not have\",\n",
    "    \"o\\'clock\": \"of the clock\",\n",
    "    \"oughtn\\'t\": \"ought not\",\n",
    "    \"oughtn\\'t\\'ve\": \"ought not have\",\n",
    "    \"shan\\'t\": \"shall not\",\n",
    "    \"sha\\'n\\'t\": \"shall not\",\n",
    "    \"shan\\'t\\'ve\": \"shall not have\",\n",
    "    \"she\\'d\": \"she had\",\n",
    "    \"she\\'d\\'ve\": \"she would have\",\n",
    "    \"she\\'ll\": \"she will\",\n",
    "    \"she\\'ll\\'ve\": \"she will have\",\n",
    "    \"she\\'s\": \"she is\",\n",
    "    \"should\\'ve\": \"should have\",\n",
    "    \"shouldn\\'t\": \"should not\",\n",
    "    \"shouldn\\'t\\'ve\": \"should not have\",\n",
    "    \"so\\'ve\": \"so have\",\n",
    "    \"so\\'s\": \"so as\",\n",
    "    \"that\\'d\": \"that would\",\n",
    "    \"that\\'d\\'ve\": \"that would have\",\n",
    "    \"that\\'s\": \"that is\",\n",
    "    \"there\\'d\": \"there had\",\n",
    "    \"there\\'d\\'ve\": \"there would have\",\n",
    "    \"there\\'s\": \"there has\",\n",
    "    \"they\\'d\": \"they had\",\n",
    "    \"they\\'d\\'ve\": \"they would have\",\n",
    "    \"they\\'ll\": \"they will\",\n",
    "    \"they\\'ll\\'ve\": \"they will have\",\n",
    "    \"they\\'re\": \"they are\",\n",
    "    \"they\\'ve\": \"they have\",\n",
    "    \"to\\'ve\": \"to have\",\n",
    "    \"wasn\\'t\": \"was not\",\n",
    "    \"we\\'d\": \"we had\",\n",
    "    \"we\\'d\\'ve\": \"we would have\",\n",
    "    \"we\\'ll\": \"we will\",\n",
    "    \"we\\'ll\\'ve\": \"we will have\",\n",
    "    \"we\\'re\": \"we are\",\n",
    "    \"we\\'ve\": \"we have\",\n",
    "    \"weren\\'t\": \"were not\",\n",
    "    \"what\\'ll\": \"what will\",\n",
    "    \"what\\'ll\\'ve\": \"what will have\",\n",
    "    \"what\\'re\": \"what are\",\n",
    "    \"what\\'s\": \"what is\",\n",
    "    \"what\\'ve\": \"what have\",\n",
    "    \"when\\'s\": \"when is\",\n",
    "    \"when\\'ve\": \"when have\",\n",
    "    \"where\\'d\": \"where did\",\n",
    "    \"where\\'s\": \"where has\",\n",
    "    \"where\\'ve\": \"where have\",\n",
    "    \"who\\'ll\": \"who will\",\n",
    "    \"who\\'ll\\'ve\": \"who will have\",\n",
    "    \"who\\'s\": \"who is\",\n",
    "    \"who\\'ve\": \"who have\",\n",
    "    \"why\\'s\": \"why is\",\n",
    "    \"why\\'ve\": \"why have\",\n",
    "    \"will\\'ve\": \"will have\",\n",
    "    \"won\\'t\": \"will not\",\n",
    "    \"won\\'t\\'ve\": \"will not have\",\n",
    "    \"would\\'ve\": \"would have\",\n",
    "    \"wouldn\\'t\": \"would not\",\n",
    "    \"wouldn\\'t\\'ve\": \"would not have\",\n",
    "    \"y\\'all\": \"you all\",\n",
    "    \"y\\'all\\'d\": \"you all would\",\n",
    "    \"y\\'all\\'d\\'ve\": \"you all would have\",\n",
    "    \"y\\'all\\'re\": \"you all are\",\n",
    "    \"y\\'all\\'ve\": \"you all have\",\n",
    "    \"you\\'d\": \"you would\",\n",
    "    \"you\\'d\\'ve\": \"you would have\",\n",
    "    \"you\\'ll\": \"you will\",\n",
    "    \"you\\'ll\\'ve\": \"you will have\",\n",
    "    \"you\\'re\": \"you are\",\n",
    "    \"you\\'ve\": \"you have\"\n",
    "}"
   ]
  },
  {
   "cell_type": "code",
   "execution_count": null,
   "metadata": {},
   "outputs": [],
   "source": [
    "def decontracted(phrase):\n",
    "    phrase = re.sub(r\"n\\'t\", \" not\", phrase)\n",
    "    phrase = re.sub(r\"\\'re\", \" are\", phrase)\n",
    "    phrase = re.sub(r\"\\'s\", \" is\", phrase)\n",
    "    phrase = re.sub(r\"\\'d\", \" would\", phrase)\n",
    "    phrase = re.sub(r\"\\'ll\", \" will\", phrase)\n",
    "    phrase = re.sub(r\"\\'t\", \" not\", phrase)\n",
    "    phrase = re.sub(r\"\\'ve\", \" have\", phrase)\n",
    "    phrase = re.sub(r\"\\'m\", \" am\", phrase)\n",
    "    return phrase"
   ]
  },
  {
   "cell_type": "code",
   "execution_count": null,
   "metadata": {},
   "outputs": [],
   "source": [
    "def expand_contractions(s, contractions_dict=contractions_dict):\n",
    "    x = [contractions_dict[con] if con in contractions_dict else con for con in s.split()]\n",
    "    x = ' '.join(x)\n",
    "    return decontracted(x)"
   ]
  },
  {
   "cell_type": "code",
   "execution_count": null,
   "metadata": {},
   "outputs": [],
   "source": [
    "def text_process_stm_cont(mess): #ss, swr\n",
    "    result = ''.join([i for i in mess if not i.isdigit()])\n",
    "#     nopunc = ' '.join([word for word in result.split() if word.lower() not in stop_words])\n",
    "    nopunc = expand_contractions(nopunc)\n",
    "    nopunc = ' '.join([word for word in nopunc.split() if word.lower() not in stop_words])\n",
    "    nopunc = nopunc.translate(str.maketrans('', '', string.punctuation))\n",
    "    nopunc = [word.lower() for word in nopunc.split()]\n",
    "    nopunc = [word for word in result.split() if len(word) != 1]\n",
    "    return [stemmer.stem(word) for word in nopunc]"
   ]
  },
  {
   "cell_type": "code",
   "execution_count": null,
   "metadata": {},
   "outputs": [],
   "source": [
    "def text_process_wnl_cont(mess): #ss, swr\n",
    "    result = ''.join([i for i in mess if not i.isdigit()])\n",
    "#     nopunc = ' '.join([word for word in result.split() if word.lower() not in stop_words])\n",
    "    nopunc = expand_contractions(nopunc)\n",
    "    nopunc = ' '.join([word for word in nopunc.split() if word.lower() not in stop_words])\n",
    "    nopunc = nopunc.translate(str.maketrans('', '', string.punctuation))\n",
    "    nopunc = [word.lower() for word in nopunc.split()]\n",
    "    nopunc = [word for word in result.split() if len(word) != 1]\n",
    "    return [wnl.lemmatize(word) for word in nopunc]"
   ]
  },
  {
   "cell_type": "code",
   "execution_count": null,
   "metadata": {},
   "outputs": [],
   "source": [
    "def text_process_stm_cont_swnr(mess): #ss, swr\n",
    "    result = ''.join([i for i in mess if not i.isdigit()])\n",
    "#     nopunc = ' '.join([word for word in result.split() if word.lower() not in stop_words])\n",
    "    nopunc = expand_contractions(nopunc)\n",
    "#     nopunc = ' '.join([word for word in nopunc.split() if word.lower() not in stop_words])\n",
    "    nopunc = nopunc.translate(str.maketrans('', '', string.punctuation))\n",
    "    nopunc = [word.lower() for word in nopunc.split()]\n",
    "    nopunc = [word for word in result.split() if len(word) != 1]\n",
    "    return [stemmer.stem(word) for word in nopunc]"
   ]
  },
  {
   "cell_type": "code",
   "execution_count": null,
   "metadata": {},
   "outputs": [],
   "source": [
    "def text_process_wnl_cont_swnr(mess): #ss, swr\n",
    "    result = ''.join([i for i in mess if not i.isdigit()])\n",
    "#     nopunc = ' '.join([word for word in result.split() if word.lower() not in stop_words])\n",
    "    nopunc = expand_contractions(nopunc)\n",
    "#     nopunc = ' '.join([word for word in nopunc.split() if word.lower() not in stop_words])\n",
    "    nopunc = nopunc.translate(str.maketrans('', '', string.punctuation))\n",
    "    nopunc = [word.lower() for word in nopunc.split()]\n",
    "    nopunc = [word for word in result.split() if len(word) != 1]\n",
    "    return [wnl.lemmatize(word) for word in nopunc]"
   ]
  },
  {
   "cell_type": "code",
   "execution_count": 6,
   "metadata": {},
   "outputs": [],
   "source": [
    "def text_process_wnl(mess): #ss, swr\n",
    "    result = ''.join([i for i in mess if not i.isdigit()])\n",
    "    nopunc = result.translate(str.maketrans('', '', string.punctuation))\n",
    "    nopunc2 = [word for word in nopunc.split() if word.lower() not in stop_words]\n",
    "    nopunc2 = [word.lower() for word in nopunc2]\n",
    "    nopunc2 = [word for word in nopunc2 if len(word) != 1]\n",
    "    return [stemmer.stem(word) for word in nopunc2]\n",
    "\n",
    "def text_process_stm(mess): #ss, swr\n",
    "    result = ''.join([i for i in mess if not i.isdigit()])\n",
    "    nopunc = result.translate(str.maketrans('', '', string.punctuation))\n",
    "    nopunc2 = [word for word in nopunc.split() if word.lower() not in stop_words]\n",
    "    nopunc2 = [word.lower() for word in nopunc2]\n",
    "    nopunc2 = [word for word in nopunc2 if len(word) != 1]\n",
    "    return [wnl.lemmatize(word) for word in nopunc2]"
   ]
  },
  {
   "cell_type": "code",
   "execution_count": null,
   "metadata": {},
   "outputs": [],
   "source": []
  },
  {
   "cell_type": "code",
   "execution_count": 7,
   "metadata": {
    "scrolled": true
   },
   "outputs": [],
   "source": [
    "vect = CountVectorizer(analyzer = text_process_stm).fit(train['SumTxt'])\n",
    "vect2 = CountVectorizer(analyzer = text_process_stm2).fit(train['SumTxt'])"
   ]
  },
  {
   "cell_type": "code",
   "execution_count": 8,
   "metadata": {},
   "outputs": [],
   "source": [
    "feature_names = vect.get_feature_names()\n",
    "feature_names2 = vect2.get_feature_names()"
   ]
  },
  {
   "cell_type": "code",
   "execution_count": 9,
   "metadata": {},
   "outputs": [
    {
     "data": {
      "text/plain": [
       "145737"
      ]
     },
     "execution_count": 9,
     "metadata": {},
     "output_type": "execute_result"
    }
   ],
   "source": [
    "len(feature_names)"
   ]
  },
  {
   "cell_type": "code",
   "execution_count": 10,
   "metadata": {},
   "outputs": [
    {
     "data": {
      "text/plain": [
       "170799"
      ]
     },
     "execution_count": 10,
     "metadata": {},
     "output_type": "execute_result"
    }
   ],
   "source": [
    "len(feature_names2)"
   ]
  },
  {
   "cell_type": "code",
   "execution_count": 11,
   "metadata": {
    "scrolled": false
   },
   "outputs": [
    {
     "name": "stdout",
     "output_type": "stream",
     "text": [
      "First 2000 features:\n",
      "['\\x06\\x0f\\x07\\x0f\\x07\\x0f\\x07aumllt', '\\x10i', 'a', 'aa', 'aaa', 'aaaa', 'aaaaa', 'aaaaaa', 'aaaaaaaaaa', 'aaaaaaaaaaa', 'aaaaaaaaaaaa', 'aaaaaaaaaaaaaa', 'aaaaaaaaaaaaaaa', 'aaaaaaaaaaaaaaaaaaaargh', 'aaaaaaaaaaaaaaaaacccccccckkkkkkkkkk', 'aaaaaaaaaaacccckkkkk', 'aaaaaaaaagghh', 'aaaaaaah', 'aaaaaaahhhhhh', 'aaaaaaarrrrrggghhh', 'aaaaaaggggggghhhhhhhh', 'aaaaaagggghhhh', 'aaaaaagh', 'aaaaaah', 'aaaaaahhh', 'aaaaaahhhh', 'aaaaaahhhhh', 'aaaaaahhhhhyaaaaaa', 'aaaaaawwwwwwwwww', 'aaaaah', 'aaaaahhh', 'aaaaallll', 'aaaaawsom', 'aaaah', 'aaaahhh', 'aaaahhhh', 'aaaahhhhh', 'aaaahhhhhh', 'aaaallll', 'aaaamaz', 'aaaammmmaaaaazziiiinnnnggg', 'aaaand', 'aaaannnndddgolazo', 'aaaarrrrghh', 'aaaarrrrrgggghhhhh', 'aaagh', 'aaah', 'aaahhh', 'aaahhhh', 'aaahhhhhh', 'aaahmaz', 'aaamaz', 'aabout', 'aabsolut', 'aachen', 'aad', 'aadd', 'aadmit', 'aadp', 'aadult', 'aaf', 'aafco', 'aafcoa', 'aah', 'aahey', 'aahh', 'aahhh', 'aain', 'aakaufmanerthlinknet', 'aakg', 'aalmost', 'aaloo', 'aamazon', 'aamazoncom', 'aamazoni', 'aamz', 'aamzon', 'aamzoncom', 'aana', 'aand', 'aap', 'aar', 'aardvark', 'aargh', 'aaron', 'aaround', 'aarp', 'aarrgh', 'aarthur', 'aarti', 'aasanfoodcom', 'aash', 'aauc', 'aawesom', 'aaworld', 'aazomg', 'ab', 'aback', 'abacor', 'abalon', 'abamectin', 'abando', 'abandon', 'abandonor', 'abaolut', 'abash', 'abat', 'abattoir', 'abb', 'abba', 'abbay', 'abbazaba', 'abbazabba', 'abberlin', 'abbey', 'abbi', 'abbondanza', 'abbot', 'abbott', 'abbottnco', 'abbrevi', 'abbydog', 'abbypomeroy', 'abbyw', 'abc', 'abcess', 'abctoym', 'abd', 'abdi', 'abdomen', 'abdomin', 'abduct', 'abdul', 'abe', 'abecaus', 'abel', 'abenefici', 'aber', 'aberdeen', 'aberdeenat', 'abernook', 'aberr', 'abet', 'abett', 'abfab', 'abflab', 'abhor', 'abhori', 'abhorr', 'abi', 'abid', 'abiet', 'abigirl', 'abiiiti', 'abil', 'abililti', 'abilit', 'abit', 'abita', 'abj', 'abject', 'abk', 'abl', 'ablat', 'ablaz', 'ablazin', 'abliti', 'abnd', 'abnorm', 'abnormalitywith', 'abnormalti', 'abnoxi', 'aboard', 'abod', 'aboiut', 'abolitionist', 'abolt', 'abolut', 'abomin', 'abondanza', 'aboout', 'abor', 'abort', 'aboslut', 'abosolut', 'abosout', 'abosrb', 'abosut', 'abot', 'aboth', 'abottl', 'abotu', 'abou', 'aboug', 'abouit', 'abound', 'abour', 'about', 'aboutand', 'aboutbut']\n"
     ]
    }
   ],
   "source": [
    "print(\"First 2000 features:\\n{}\".format(feature_names[:200]))"
   ]
  },
  {
   "cell_type": "code",
   "execution_count": 12,
   "metadata": {},
   "outputs": [
    {
     "name": "stdout",
     "output_type": "stream",
     "text": [
      "First 2000 features:\n",
      "['\\x06\\x0f\\x07\\x0f\\x07\\x0f\\x07aumllt', '\\x10i', 'aa', 'aaa', 'aaaa', 'aaaaa', 'aaaaaa', 'aaaaaaaaaa', 'aaaaaaaaaaa', 'aaaaaaaaaaaa', 'aaaaaaaaaaaaaa', 'aaaaaaaaaaaaaaa', 'aaaaaaaaaaaaaaaaaaaargh', 'aaaaaaaaaaaaaaaaacccccccckkkkkkkkkk', 'aaaaaaaaaaacccckkkkk', 'aaaaaaaaagghh', 'aaaaaaah', 'aaaaaaahhhhhh', 'aaaaaaarrrrrggghhh', 'aaaaaaggggggghhhhhhhh', 'aaaaaagggghhhh', 'aaaaaagh', 'aaaaaah', 'aaaaaahhh', 'aaaaaahhhh', 'aaaaaahhhhh', 'aaaaaahhhhhyaaaaaa', 'aaaaaawwwwwwwwww', 'aaaaah', 'aaaaahhh', 'aaaaallll', 'aaaaawsome', 'aaaah', 'aaaahhh', 'aaaahhhh', 'aaaahhhhh', 'aaaahhhhhh', 'aaaahs', 'aaaallll', 'aaaamazing', 'aaaammmmaaaaazziiiinnnnggg', 'aaaand', 'aaaannnndddgolazo', 'aaaarrrrghh', 'aaaarrrrrgggghhhhh', 'aaagh', 'aaah', 'aaahhh', 'aaahhhh', 'aaahhhhhh', 'aaahhhs', 'aaahmazing', 'aaahs', 'aaamazing', 'aabout', 'aabsolutely', 'aachen', 'aad', 'aadd', 'aadmit', 'aadp', 'aadults', 'aaf', 'aafco', 'aafcoa', 'aafes', 'aah', 'aahey', 'aahh', 'aahhhs', 'aahing', 'aahs', 'aain', 'aakaufmanerthlinknet', 'aakg', 'aalmost', 'aaloo', 'aamazon', 'aamazoncom', 'aamazoni', 'aamazons', 'aamzing', 'aamzon', 'aamzoncom', 'aana', 'aand', 'aap', 'aardvark', 'aare', 'aargh', 'aaron', 'aaround', 'aarp', 'aarrgh', 'aarthur', 'aarti', 'aasanfoodcom', 'aashe', 'aauces', 'aawesome', 'aaworld', 'aazomg', 'ab', 'aback', 'abacore', 'abalone', 'abamectin', 'abandoed', 'abandon', 'abandoned', 'abandoning', 'abandonor', 'abaolutely', 'abash', 'abated', 'abates', 'abattoir', 'abb', 'abba', 'abbaye', 'abbazaba', 'abbazabas', 'abbazabba', 'abberline', 'abbey', 'abbie', 'abbondanza', 'abbot', 'abbott', 'abbottncos', 'abbotts', 'abbreviated', 'abbreviation', 'abby', 'abbydogs', 'abbypomeroy', 'abbywe', 'abc', 'abcessed', 'abctoyme', 'abd', 'abdomen', 'abdominal', 'abduct', 'abdul', 'abdy', 'abe', 'abecause', 'abed', 'abel', 'abeneficial', 'aber', 'aberdeen', 'aberdeenat', 'abernook', 'aberrant', 'aberration', 'abet', 'abetter', 'abfab', 'abflab', 'abhor', 'abhorant', 'abhori', 'abhorrent', 'abhors', 'abi', 'abid', 'abide', 'abiding', 'abietate', 'abigirl', 'abiiity', 'abililty', 'abilites', 'ability', 'abilling', 'abit', 'abita', 'abitas', 'abj', 'abject', 'abk', 'ablation', 'ablaze', 'ablazin', 'able', 'ablity', 'abnd', 'abnormal', 'abnormality', 'abnormalitywith', 'abnormally', 'abnormalties', 'abnoxious', 'aboard', 'abode', 'aboiut', 'abolitionist', 'abolt']\n"
     ]
    }
   ],
   "source": [
    "print(\"First 2000 features:\\n{}\".format(feature_names2[:200]))"
   ]
  }
 ],
 "metadata": {
  "kernelspec": {
   "display_name": "Python 3",
   "language": "python",
   "name": "python3"
  },
  "language_info": {
   "codemirror_mode": {
    "name": "ipython",
    "version": 3
   },
   "file_extension": ".py",
   "mimetype": "text/x-python",
   "name": "python",
   "nbconvert_exporter": "python",
   "pygments_lexer": "ipython3",
   "version": "3.7.6"
  }
 },
 "nbformat": 4,
 "nbformat_minor": 2
}
