{
 "cells": [
  {
   "cell_type": "code",
   "execution_count": null,
   "metadata": {},
   "outputs": [],
   "source": [
    "import pandas as pd\n",
    "import numpy as np\n",
    "%matplotlib inline\n",
    "import matplotlib as mpl\n",
    "import matplotlib.pyplot as plt\n",
    "import string\n",
    "import nltk\n",
    "import sklearn\n",
    "import re\n",
    "# import mglearn as mglearn\n",
    "\n",
    "from nltk.stem import WordNetLemmatizer\n",
    "from nltk.corpus import stopwords\n",
    "from nltk.stem.snowball import SnowballStemmer\n",
    "from sklearn.model_selection import train_test_split\n",
    "from sklearn.model_selection import GridSearchCV\n",
    "from sklearn.metrics import classification_report\n",
    "from sklearn.feature_extraction.text import CountVectorizer\n",
    "from sklearn.feature_extraction.text import TfidfVectorizer\n",
    "from sklearn.svm import LinearSVC\n",
    "from sklearn.linear_model import LogisticRegression\n",
    "from sklearn.naive_bayes import MultinomialNB\n",
    "from sklearn.pipeline import Pipeline"
   ]
  },
  {
   "cell_type": "code",
   "execution_count": null,
   "metadata": {},
   "outputs": [],
   "source": [
    "train = pd.read_csv('train2electricboogaloo.csv')\n",
    "\n",
    "train.Summary.fillna('', inplace=True)\n",
    "train.Text.fillna('', inplace=True)\n",
    "train.SumTxt.fillna('', inplace=True)"
   ]
  },
  {
   "cell_type": "code",
   "execution_count": null,
   "metadata": {},
   "outputs": [],
   "source": [
    "train_set, test_set = train_test_split(train, test_size = 0.2, random_state = 42, stratify = train['Score'])\n",
    "train_text, train_score = train_set['SumTxt'], train_set['Score']\n",
    "test_text, test_score = test_set['SumTxt'], test_set['Score']"
   ]
  },
  {
   "cell_type": "code",
   "execution_count": null,
   "metadata": {},
   "outputs": [],
   "source": [
    "stemmer = SnowballStemmer(\"english\")\n",
    "lem = WordNetLemmatizer()\n",
    "stop_words = set(stopwords.words(\"english\"))"
   ]
  },
  {
   "cell_type": "code",
   "execution_count": null,
   "metadata": {},
   "outputs": [],
   "source": [
    "contractions_dict = { \n",
    "    \"ain\\'t\": \"am not\",\n",
    "    \"aren\\'t\": \"are not\",\n",
    "    \"can\\'t\": \"cannot\",\n",
    "    \"can\\'t\\'ve\": \"cannot have\",\n",
    "    \"\\'cause\": \"because\",\n",
    "    \"could\\'ve\": \"could have\",\n",
    "    \"couldn\\'t\": \"could not\",\n",
    "    \"couldn\\'t\\'ve\": \"could not have\",\n",
    "    \"didn\\'t\": \"did not\",\n",
    "    \"doesn\\'t\": \"does not\",\n",
    "    \"don\\'t\": \"do not\",\n",
    "    \"hadn\\'t\": \"had not\",\n",
    "    \"hadn\\'t\\'ve\": \"had not have\",\n",
    "    \"hasn\\'t\": \"has not\",\n",
    "    \"haven\\'t\": \"have not\",\n",
    "    \"he\\'d\": \"he had\",\n",
    "    \"he\\'d\\'ve\": \"he would have\",\n",
    "    \"he\\'ll\": \"he shall\",\n",
    "    \"he\\'ll\\'ve\": \"he shall have\",\n",
    "    \"he\\'s\": \"he has\",\n",
    "    \"how\\'d\": \"how did\",\n",
    "    \"how\\'d\\'y\": \"how do you\",\n",
    "    \"how\\'ll\": \"how will\",\n",
    "    \"how\\'s\": \"how has\",\n",
    "    \"I\\'d\": \"I had\",\n",
    "    \"I\\'d\\'ve\": \"I would have\",\n",
    "    \"I\\'ll\": \"I will\",\n",
    "    \"I\\'ll\\'ve\": \"I will have\",\n",
    "    \"I\\'m\": \"I am\",\n",
    "    \"I\\'ve\": \"I have\",\n",
    "    \"isn\\'t\": \"is not\",\n",
    "    \"it\\'d\": \"it would\",\n",
    "    \"it\\'d\\'ve\": \"it would have\",\n",
    "    \"it\\'ll\": \"it will\",\n",
    "    \"it\\'ll\\'ve\": \"it will have\",\n",
    "    \"it\\'s\": \"it is\",\n",
    "    \"let\\'s\": \"let us\",\n",
    "    \"ma\\'am\": \"madam\",\n",
    "    \"mayn\\'t\": \"may not\",\n",
    "    \"might\\'ve\": \"might have\",\n",
    "    \"mightn\\'t\": \"might not\",\n",
    "    \"mightn\\'t\\'ve\": \"might not have\",\n",
    "    \"must\\'ve\": \"must have\",\n",
    "    \"mustn\\'t\": \"must not\",\n",
    "    \"mustn\\'t\\'ve\": \"must not have\",\n",
    "    \"needn\\'t\": \"need not\",\n",
    "    \"needn\\'t\\'ve\": \"need not have\",\n",
    "    \"o\\'clock\": \"of the clock\",\n",
    "    \"oughtn\\'t\": \"ought not\",\n",
    "    \"oughtn\\'t\\'ve\": \"ought not have\",\n",
    "    \"shan\\'t\": \"shall not\",\n",
    "    \"sha\\'n\\'t\": \"shall not\",\n",
    "    \"shan\\'t\\'ve\": \"shall not have\",\n",
    "    \"she\\'d\": \"she had\",\n",
    "    \"she\\'d\\'ve\": \"she would have\",\n",
    "    \"she\\'ll\": \"she will\",\n",
    "    \"she\\'ll\\'ve\": \"she will have\",\n",
    "    \"she\\'s\": \"she is\",\n",
    "    \"should\\'ve\": \"should have\",\n",
    "    \"shouldn\\'t\": \"should not\",\n",
    "    \"shouldn\\'t\\'ve\": \"should not have\",\n",
    "    \"so\\'ve\": \"so have\",\n",
    "    \"so\\'s\": \"so as\",\n",
    "    \"that\\'d\": \"that would\",\n",
    "    \"that\\'d\\'ve\": \"that would have\",\n",
    "    \"that\\'s\": \"that is\",\n",
    "    \"there\\'d\": \"there had\",\n",
    "    \"there\\'d\\'ve\": \"there would have\",\n",
    "    \"there\\'s\": \"there has\",\n",
    "    \"they\\'d\": \"they had\",\n",
    "    \"they\\'d\\'ve\": \"they would have\",\n",
    "    \"they\\'ll\": \"they will\",\n",
    "    \"they\\'ll\\'ve\": \"they will have\",\n",
    "    \"they\\'re\": \"they are\",\n",
    "    \"they\\'ve\": \"they have\",\n",
    "    \"to\\'ve\": \"to have\",\n",
    "    \"wasn\\'t\": \"was not\",\n",
    "    \"we\\'d\": \"we had\",\n",
    "    \"we\\'d\\'ve\": \"we would have\",\n",
    "    \"we\\'ll\": \"we will\",\n",
    "    \"we\\'ll\\'ve\": \"we will have\",\n",
    "    \"we\\'re\": \"we are\",\n",
    "    \"we\\'ve\": \"we have\",\n",
    "    \"weren\\'t\": \"were not\",\n",
    "    \"what\\'ll\": \"what will\",\n",
    "    \"what\\'ll\\'ve\": \"what will have\",\n",
    "    \"what\\'re\": \"what are\",\n",
    "    \"what\\'s\": \"what is\",\n",
    "    \"what\\'ve\": \"what have\",\n",
    "    \"when\\'s\": \"when is\",\n",
    "    \"when\\'ve\": \"when have\",\n",
    "    \"where\\'d\": \"where did\",\n",
    "    \"where\\'s\": \"where has\",\n",
    "    \"where\\'ve\": \"where have\",\n",
    "    \"who\\'ll\": \"who will\",\n",
    "    \"who\\'ll\\'ve\": \"who will have\",\n",
    "    \"who\\'s\": \"who is\",\n",
    "    \"who\\'ve\": \"who have\",\n",
    "    \"why\\'s\": \"why is\",\n",
    "    \"why\\'ve\": \"why have\",\n",
    "    \"will\\'ve\": \"will have\",\n",
    "    \"won\\'t\": \"will not\",\n",
    "    \"won\\'t\\'ve\": \"will not have\",\n",
    "    \"would\\'ve\": \"would have\",\n",
    "    \"wouldn\\'t\": \"would not\",\n",
    "    \"wouldn\\'t\\'ve\": \"would not have\",\n",
    "    \"y\\'all\": \"you all\",\n",
    "    \"y\\'all\\'d\": \"you all would\",\n",
    "    \"y\\'all\\'d\\'ve\": \"you all would have\",\n",
    "    \"y\\'all\\'re\": \"you all are\",\n",
    "    \"y\\'all\\'ve\": \"you all have\",\n",
    "    \"you\\'d\": \"you would\",\n",
    "    \"you\\'d\\'ve\": \"you would have\",\n",
    "    \"you\\'ll\": \"you will\",\n",
    "    \"you\\'ll\\'ve\": \"you will have\",\n",
    "    \"you\\'re\": \"you are\",\n",
    "    \"you\\'ve\": \"you have\"\n",
    "}"
   ]
  },
  {
   "cell_type": "code",
   "execution_count": null,
   "metadata": {},
   "outputs": [],
   "source": [
    "def decontracted(phrase):\n",
    "    phrase = re.sub(r\"n\\'t\", \" not\", phrase)\n",
    "    phrase = re.sub(r\"\\'re\", \" are\", phrase)\n",
    "    phrase = re.sub(r\"\\'s\", \" is\", phrase)\n",
    "    phrase = re.sub(r\"\\'d\", \" would\", phrase)\n",
    "    phrase = re.sub(r\"\\'ll\", \" will\", phrase)\n",
    "    phrase = re.sub(r\"\\'t\", \" not\", phrase)\n",
    "    phrase = re.sub(r\"\\'ve\", \" have\", phrase)\n",
    "    phrase = re.sub(r\"\\'m\", \" am\", phrase)\n",
    "    return phrase"
   ]
  },
  {
   "cell_type": "code",
   "execution_count": null,
   "metadata": {},
   "outputs": [],
   "source": [
    "def expand_contractions(s, contractions_dict=contractions_dict):\n",
    "    x = [contractions_dict[con] if con in contractions_dict else con for con in s.split()]\n",
    "    x = ' '.join(x)\n",
    "    return decontracted(x)"
   ]
  },
  {
   "cell_type": "code",
   "execution_count": null,
   "metadata": {},
   "outputs": [],
   "source": [
    "def remove_digits(mess):\n",
    "    return ''.join([i for i in mess if not i.isdigit()])"
   ]
  },
  {
   "cell_type": "code",
   "execution_count": null,
   "metadata": {},
   "outputs": [],
   "source": [
    "def stm(mess):\n",
    "    return [stemmer.stem(word) for word in mess]"
   ]
  },
  {
   "cell_type": "code",
   "execution_count": null,
   "metadata": {},
   "outputs": [],
   "source": [
    "def wnl(mess):\n",
    "    return [lem.lemmatize(word) for word in mess]"
   ]
  },
  {
   "cell_type": "code",
   "execution_count": null,
   "metadata": {},
   "outputs": [],
   "source": [
    "def swr(mess):\n",
    "    return ' '.join([word for word in mess.split() if word.lower() not in stop_words])"
   ]
  },
  {
   "cell_type": "code",
   "execution_count": null,
   "metadata": {},
   "outputs": [],
   "source": [
    "def punc(mess):\n",
    "    return mess.translate(str.maketrans('', '', string.punctuation))"
   ]
  },
  {
   "cell_type": "code",
   "execution_count": null,
   "metadata": {},
   "outputs": [],
   "source": [
    "def check_char(mess):\n",
    "    return [word for word in mess.split() if len(word) != 1]"
   ]
  },
  {
   "cell_type": "code",
   "execution_count": null,
   "metadata": {},
   "outputs": [],
   "source": [
    "def css(mess):\n",
    "    mess = remove_digits(mess) \n",
    "    mess = expand_contractions(mess)\n",
    "    mess = swr(mess)\n",
    "    mess = punc(mess)\n",
    "    mess = check_char(mess)\n",
    "    return stm(mess)"
   ]
  },
  {
   "cell_type": "code",
   "execution_count": null,
   "metadata": {},
   "outputs": [],
   "source": [
    "def csl(mess):\n",
    "    mess = remove_digits(mess) \n",
    "    mess = expand_contractions(mess)\n",
    "    mess = swr(mess)\n",
    "    mess = punc(mess)\n",
    "    mess = check_char(mess)\n",
    "    return wnl(mess)"
   ]
  },
  {
   "cell_type": "code",
   "execution_count": null,
   "metadata": {},
   "outputs": [],
   "source": [
    "def nss(mess):\n",
    "    mess = remove_digits(mess) \n",
    "    mess = swr(mess)\n",
    "    mess = punc(mess)\n",
    "    mess = check_char(mess)\n",
    "    return stm(mess)"
   ]
  },
  {
   "cell_type": "code",
   "execution_count": null,
   "metadata": {},
   "outputs": [],
   "source": [
    "def nsl(mess):\n",
    "    mess = remove_digits(mess) \n",
    "    mess = swr(mess)\n",
    "    mess = punc(mess)\n",
    "    mess = check_char(mess)\n",
    "    return wnl(mess)"
   ]
  },
  {
   "cell_type": "code",
   "execution_count": null,
   "metadata": {},
   "outputs": [],
   "source": [
    "def cns(mess):\n",
    "    mess = remove_digits(mess) \n",
    "    mess = expand_contractions(mess)\n",
    "    mess = punc(mess)\n",
    "    mess = check_char(mess)\n",
    "    return ' '.join(stm(mess))"
   ]
  },
  {
   "cell_type": "code",
   "execution_count": null,
   "metadata": {},
   "outputs": [],
   "source": [
    "def cnl(mess):\n",
    "    mess = remove_digits(mess) \n",
    "    mess = expand_contractions(mess)\n",
    "    mess = punc(mess)\n",
    "    mess = check_char(mess)\n",
    "    return ' '.join(wnl(mess))"
   ]
  },
  {
   "cell_type": "code",
   "execution_count": null,
   "metadata": {},
   "outputs": [],
   "source": [
    "def nns(mess):\n",
    "    mess = remove_digits(mess) \n",
    "    mess = punc(mess)\n",
    "    mess = check_char(mess)\n",
    "    return stm(mess)"
   ]
  },
  {
   "cell_type": "code",
   "execution_count": null,
   "metadata": {},
   "outputs": [],
   "source": [
    "def nnl(mess):\n",
    "    mess = remove_digits(mess) \n",
    "    mess = punc(mess)\n",
    "    mess = check_char(mess)\n",
    "    return wnl(mess)"
   ]
  },
  {
   "cell_type": "code",
   "execution_count": null,
   "metadata": {},
   "outputs": [],
   "source": [
    "s = Pipeline([\n",
    "    ('tfidf', TfidfVectorizer(strip_accents='unicode', analyzer='word', min_df=0.1, max_df=0.8, preprocessor=cnl)),\n",
    "    ('svm', LinearSVC(loss = 'hinge', C = 10))\n",
    "])"
   ]
  },
  {
   "cell_type": "code",
   "execution_count": null,
   "metadata": {},
   "outputs": [],
   "source": [
    "param_grid_s = {#'tfidf__analyzer': [css, csl],\n",
    "#               'tfidf__max_df': [0.8, 0.9, 1],\n",
    "#               'tfidf__min_df': [0.1, 0.2],\n",
    "#               'tfidf__max_features': [50000, None],\n",
    "#               'tfidf__binary': [True, False],\n",
    "#               'tfidf__norm': ['l1', 'l2', None],\n",
    "#               'tfidf__use_idf': [True, False],\n",
    "#               'svm__C': [1, 10, 100],\n",
    "#               'svm__loss': ['hinge']\n",
    "                'tfidf__ngram_range': [(1,1), (1,2), (1, 3), (2,2), (3,3)]\n",
    "             }"
   ]
  },
  {
   "cell_type": "code",
   "execution_count": null,
   "metadata": {},
   "outputs": [],
   "source": [
    "grid_s = GridSearchCV(s, param_grid_s, cv = 5, n_jobs = -1)"
   ]
  },
  {
   "cell_type": "code",
   "execution_count": null,
   "metadata": {},
   "outputs": [],
   "source": [
    "grid_s.fit(train_text, train_score)"
   ]
  },
  {
   "cell_type": "code",
   "execution_count": null,
   "metadata": {},
   "outputs": [],
   "source": [
    "print(grid_s.best_params_)"
   ]
  },
  {
   "cell_type": "code",
   "execution_count": null,
   "metadata": {},
   "outputs": [],
   "source": [
    "means = grid_s.cv_results_['mean_test_score']\n",
    "stds = grid_s.cv_results_['std_test_score']\n",
    "for mean, std, params in zip(means, stds, grid_s.cv_results_['params']):\n",
    "    print(\"%0.3f (+/-%0.03f) for %r\"\n",
    "            % (mean, std * 2, params))"
   ]
  },
  {
   "cell_type": "code",
   "execution_count": null,
   "metadata": {},
   "outputs": [],
   "source": [
    "pred_s = grid_s.predict(test_text)"
   ]
  },
  {
   "cell_type": "code",
   "execution_count": null,
   "metadata": {},
   "outputs": [],
   "source": [
    "print(classification_report(test_score, pred_s))"
   ]
  }
 ],
 "metadata": {
  "kernelspec": {
   "display_name": "Python 3",
   "language": "python",
   "name": "python3"
  },
  "language_info": {
   "codemirror_mode": {
    "name": "ipython",
    "version": 3
   },
   "file_extension": ".py",
   "mimetype": "text/x-python",
   "name": "python",
   "nbconvert_exporter": "python",
   "pygments_lexer": "ipython3",
   "version": "3.7.6"
  }
 },
 "nbformat": 4,
 "nbformat_minor": 2
}
