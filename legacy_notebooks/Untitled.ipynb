{
 "cells": [
  {
   "cell_type": "code",
   "execution_count": 1,
   "metadata": {},
   "outputs": [
    {
     "name": "stderr",
     "output_type": "stream",
     "text": [
      "/home/swagmaster/anaconda3/envs/atab/lib/python3.7/site-packages/sklearn/externals/six.py:31: FutureWarning: The module is deprecated in version 0.21 and will be removed in version 0.23 since we've dropped support for Python 2.7. Please rely on the official version of six (https://pypi.org/project/six/).\n",
      "  \"(https://pypi.org/project/six/).\", FutureWarning)\n",
      "/home/swagmaster/anaconda3/envs/atab/lib/python3.7/site-packages/sklearn/externals/joblib/__init__.py:15: FutureWarning: sklearn.externals.joblib is deprecated in 0.21 and will be removed in 0.23. Please import this functionality directly from joblib, which can be installed with: pip install joblib. If this warning is raised when loading pickled models, you may need to re-serialize those models with scikit-learn 0.21+.\n",
      "  warnings.warn(msg, category=FutureWarning)\n"
     ]
    }
   ],
   "source": [
    "import pandas as pd\n",
    "import numpy as np\n",
    "%matplotlib inline\n",
    "import matplotlib as mpl\n",
    "import matplotlib.pyplot as plt\n",
    "import string\n",
    "import nltk\n",
    "import sklearn\n",
    "import re\n",
    "import mglearn as mglearn\n",
    "\n",
    "from nltk.corpus import stopwords\n",
    "from nltk.stem.snowball import SnowballStemmer\n",
    "from sklearn.model_selection import train_test_split\n",
    "from sklearn.model_selection import GridSearchCV\n",
    "from sklearn.metrics import classification_report\n",
    "from sklearn.feature_extraction.text import CountVectorizer"
   ]
  },
  {
   "cell_type": "code",
   "execution_count": 2,
   "metadata": {},
   "outputs": [],
   "source": [
    "train = pd.read_csv('train2electricboogaloo.csv')\n",
    "\n",
    "train.Summary.fillna('', inplace=True)\n",
    "train.Text.fillna('', inplace=True)\n",
    "train.SumTxt.fillna('', inplace=True)"
   ]
  },
  {
   "cell_type": "code",
   "execution_count": 3,
   "metadata": {},
   "outputs": [],
   "source": [
    "train_set, test_set = train_test_split(train, test_size = 0.2, random_state = 42, stratify = train['Score'])\n",
    "train_text, train_score = train_set['SumTxt'], train_set['Score']\n",
    "test_text, test_score = test_set['SumTxt'], test_set['Score']"
   ]
  },
  {
   "cell_type": "code",
   "execution_count": 4,
   "metadata": {},
   "outputs": [],
   "source": [
    "text, score = train['SumTxt'], train['Score']"
   ]
  },
  {
   "cell_type": "code",
   "execution_count": 5,
   "metadata": {},
   "outputs": [],
   "source": [
    "stemmer = SnowballStemmer(\"english\")"
   ]
  },
  {
   "cell_type": "code",
   "execution_count": 6,
   "metadata": {},
   "outputs": [],
   "source": [
    "contractions_dict = { \n",
    "    \"ain\\'t\": \"am not\",\n",
    "    \"aren\\'t\": \"are not\",\n",
    "    \"can\\'t\": \"cannot\",\n",
    "    \"can\\'t\\'ve\": \"cannot have\",\n",
    "    \"\\'cause\": \"because\",\n",
    "    \"could\\'ve\": \"could have\",\n",
    "    \"couldn\\'t\": \"could not\",\n",
    "    \"couldn\\'t\\'ve\": \"could not have\",\n",
    "    \"didn\\'t\": \"did not\",\n",
    "    \"doesn\\'t\": \"does not\",\n",
    "    \"don\\'t\": \"do not\",\n",
    "    \"hadn\\'t\": \"had not\",\n",
    "    \"hadn\\'t\\'ve\": \"had not have\",\n",
    "    \"hasn\\'t\": \"has not\",\n",
    "    \"haven\\'t\": \"have not\",\n",
    "    \"he\\'d\": \"he had\",\n",
    "    \"he\\'d\\'ve\": \"he would have\",\n",
    "    \"he\\'ll\": \"he shall\",\n",
    "    \"he\\'ll\\'ve\": \"he shall have\",\n",
    "    \"he\\'s\": \"he has\",\n",
    "    \"how\\'d\": \"how did\",\n",
    "    \"how\\'d\\'y\": \"how do you\",\n",
    "    \"how\\'ll\": \"how will\",\n",
    "    \"how\\'s\": \"how has\",\n",
    "    \"I\\'d\": \"I had\",\n",
    "    \"I\\'d\\'ve\": \"I would have\",\n",
    "    \"I\\'ll\": \"I will\",\n",
    "    \"I\\'ll\\'ve\": \"I will have\",\n",
    "    \"I\\'m\": \"I am\",\n",
    "    \"I\\'ve\": \"I have\",\n",
    "    \"isn\\'t\": \"is not\",\n",
    "    \"it\\'d\": \"it would\",\n",
    "    \"it\\'d\\'ve\": \"it would have\",\n",
    "    \"it\\'ll\": \"it will\",\n",
    "    \"it\\'ll\\'ve\": \"it will have\",\n",
    "    \"it\\'s\": \"it is\",\n",
    "    \"let\\'s\": \"let us\",\n",
    "    \"ma\\'am\": \"madam\",\n",
    "    \"mayn\\'t\": \"may not\",\n",
    "    \"might\\'ve\": \"might have\",\n",
    "    \"mightn\\'t\": \"might not\",\n",
    "    \"mightn\\'t\\'ve\": \"might not have\",\n",
    "    \"must\\'ve\": \"must have\",\n",
    "    \"mustn\\'t\": \"must not\",\n",
    "    \"mustn\\'t\\'ve\": \"must not have\",\n",
    "    \"needn\\'t\": \"need not\",\n",
    "    \"needn\\'t\\'ve\": \"need not have\",\n",
    "    \"o\\'clock\": \"of the clock\",\n",
    "    \"oughtn\\'t\": \"ought not\",\n",
    "    \"oughtn\\'t\\'ve\": \"ought not have\",\n",
    "    \"shan\\'t\": \"shall not\",\n",
    "    \"sha\\'n\\'t\": \"shall not\",\n",
    "    \"shan\\'t\\'ve\": \"shall not have\",\n",
    "    \"she\\'d\": \"she had\",\n",
    "    \"she\\'d\\'ve\": \"she would have\",\n",
    "    \"she\\'ll\": \"she will\",\n",
    "    \"she\\'ll\\'ve\": \"she will have\",\n",
    "    \"she\\'s\": \"she is\",\n",
    "    \"should\\'ve\": \"should have\",\n",
    "    \"shouldn\\'t\": \"should not\",\n",
    "    \"shouldn\\'t\\'ve\": \"should not have\",\n",
    "    \"so\\'ve\": \"so have\",\n",
    "    \"so\\'s\": \"so as\",\n",
    "    \"that\\'d\": \"that would\",\n",
    "    \"that\\'d\\'ve\": \"that would have\",\n",
    "    \"that\\'s\": \"that is\",\n",
    "    \"there\\'d\": \"there had\",\n",
    "    \"there\\'d\\'ve\": \"there would have\",\n",
    "    \"there\\'s\": \"there has\",\n",
    "    \"they\\'d\": \"they had\",\n",
    "    \"they\\'d\\'ve\": \"they would have\",\n",
    "    \"they\\'ll\": \"they will\",\n",
    "    \"they\\'ll\\'ve\": \"they will have\",\n",
    "    \"they\\'re\": \"they are\",\n",
    "    \"they\\'ve\": \"they have\",\n",
    "    \"to\\'ve\": \"to have\",\n",
    "    \"wasn\\'t\": \"was not\",\n",
    "    \"we\\'d\": \"we had\",\n",
    "    \"we\\'d\\'ve\": \"we would have\",\n",
    "    \"we\\'ll\": \"we will\",\n",
    "    \"we\\'ll\\'ve\": \"we will have\",\n",
    "    \"we\\'re\": \"we are\",\n",
    "    \"we\\'ve\": \"we have\",\n",
    "    \"weren\\'t\": \"were not\",\n",
    "    \"what\\'ll\": \"what will\",\n",
    "    \"what\\'ll\\'ve\": \"what will have\",\n",
    "    \"what\\'re\": \"what are\",\n",
    "    \"what\\'s\": \"what is\",\n",
    "    \"what\\'ve\": \"what have\",\n",
    "    \"when\\'s\": \"when is\",\n",
    "    \"when\\'ve\": \"when have\",\n",
    "    \"where\\'d\": \"where did\",\n",
    "    \"where\\'s\": \"where has\",\n",
    "    \"where\\'ve\": \"where have\",\n",
    "    \"who\\'ll\": \"who will\",\n",
    "    \"who\\'ll\\'ve\": \"who will have\",\n",
    "    \"who\\'s\": \"who is\",\n",
    "    \"who\\'ve\": \"who have\",\n",
    "    \"why\\'s\": \"why is\",\n",
    "    \"why\\'ve\": \"why have\",\n",
    "    \"will\\'ve\": \"will have\",\n",
    "    \"won\\'t\": \"will not\",\n",
    "    \"won\\'t\\'ve\": \"will not have\",\n",
    "    \"would\\'ve\": \"would have\",\n",
    "    \"wouldn\\'t\": \"would not\",\n",
    "    \"wouldn\\'t\\'ve\": \"would not have\",\n",
    "    \"y\\'all\": \"you all\",\n",
    "    \"y\\'all\\'d\": \"you all would\",\n",
    "    \"y\\'all\\'d\\'ve\": \"you all would have\",\n",
    "    \"y\\'all\\'re\": \"you all are\",\n",
    "    \"y\\'all\\'ve\": \"you all have\",\n",
    "    \"you\\'d\": \"you would\",\n",
    "    \"you\\'d\\'ve\": \"you would have\",\n",
    "    \"you\\'ll\": \"you will\",\n",
    "    \"you\\'ll\\'ve\": \"you will have\",\n",
    "    \"you\\'re\": \"you are\",\n",
    "    \"you\\'ve\": \"you have\"\n",
    "}\n",
    "\n",
    "stop_words = set(stopwords.words(\"english\"))"
   ]
  },
  {
   "cell_type": "code",
   "execution_count": 7,
   "metadata": {},
   "outputs": [],
   "source": [
    "def decontracted(phrase):\n",
    "    phrase = re.sub(r\"n\\'t\", \" not\", phrase)\n",
    "    phrase = re.sub(r\"\\'re\", \" are\", phrase)\n",
    "    phrase = re.sub(r\"\\'s\", \" is\", phrase)\n",
    "    phrase = re.sub(r\"\\'d\", \" would\", phrase)\n",
    "    phrase = re.sub(r\"\\'ll\", \" will\", phrase)\n",
    "    phrase = re.sub(r\"\\'t\", \" not\", phrase)\n",
    "    phrase = re.sub(r\"\\'ve\", \" have\", phrase)\n",
    "    phrase = re.sub(r\"\\'m\", \" am\", phrase)\n",
    "    return phrase"
   ]
  },
  {
   "cell_type": "code",
   "execution_count": 8,
   "metadata": {},
   "outputs": [],
   "source": [
    "def expand_contractions(s, contractions_dict=contractions_dict):\n",
    "    x = [contractions_dict[con] if con in contractions_dict else con for con in s.split()]\n",
    "    x = ' '.join(x)\n",
    "    return decontracted(x)"
   ]
  },
  {
   "cell_type": "code",
   "execution_count": 60,
   "metadata": {},
   "outputs": [],
   "source": [
    "def text_process_stm2(mess): #ss, swr\n",
    "    result = ''.join([i for i in mess if not i.isdigit()])\n",
    "#     nopunc = ' '.join([word for word in result.split() if word.lower() not in stop_words])\n",
    "    nopunc = expand_contractions(nopunc)\n",
    "    nopunc = ' '.join([word for word in nopunc.split() if word.lower() not in stop_words])\n",
    "    nopunc = nopunc.translate(str.maketrans('', '', string.punctuation))\n",
    "    nopunc = [word.lower() for word in nopunc.split()]\n",
    "    nopunc = [word for word in result.split() if len(word) != 1]\n",
    "    return [stemmer.stem(word) for word in nopunc]"
   ]
  },
  {
   "cell_type": "code",
   "execution_count": 61,
   "metadata": {},
   "outputs": [
    {
     "data": {
      "text/plain": [
       "['you',\n",
       " \"shouldn't\",\n",
       " 'need',\n",
       " 'librari',\n",
       " 'or',\n",
       " \"y'all'd\",\n",
       " 'be',\n",
       " 'dead.',\n",
       " 'also',\n",
       " 'vishesh',\n",
       " \"mom'll\",\n",
       " 'love',\n",
       " \"you'r\",\n",
       " 'prayer']"
      ]
     },
     "execution_count": 61,
     "metadata": {},
     "output_type": "execute_result"
    }
   ],
   "source": [
    "text_process_stm2('You shouldn\\'t need a library or y\\'all\\'d be dead. Also Vishesh\\'s Mom\\'ll love you\\'re prayers')"
   ]
  }
 ],
 "metadata": {
  "kernelspec": {
   "display_name": "Python 3",
   "language": "python",
   "name": "python3"
  },
  "language_info": {
   "codemirror_mode": {
    "name": "ipython",
    "version": 3
   },
   "file_extension": ".py",
   "mimetype": "text/x-python",
   "name": "python",
   "nbconvert_exporter": "python",
   "pygments_lexer": "ipython3",
   "version": "3.7.6"
  }
 },
 "nbformat": 4,
 "nbformat_minor": 2
}
