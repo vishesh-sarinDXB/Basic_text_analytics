{
 "cells": [
  {
   "cell_type": "code",
   "execution_count": 1,
   "metadata": {},
   "outputs": [],
   "source": [
    "import pandas as pd\n",
    "import numpy as np\n",
    "%matplotlib inline\n",
    "import matplotlib as mpl\n",
    "import matplotlib.pyplot as plt\n",
    "import string\n",
    "import nltk\n",
    "import sklearn\n",
    "import re\n",
    "# import mglearn as mglearn\n",
    "\n",
    "from nltk.stem import WordNetLemmatizer\n",
    "from nltk.corpus import stopwords\n",
    "from nltk.stem.snowball import SnowballStemmer\n",
    "from sklearn.model_selection import train_test_split\n",
    "from sklearn.model_selection import GridSearchCV\n",
    "from sklearn.metrics import classification_report\n",
    "from sklearn.feature_extraction.text import CountVectorizer\n",
    "from sklearn.feature_extraction.text import TfidfVectorizer\n",
    "from sklearn.svm import LinearSVC\n",
    "from sklearn.linear_model import LogisticRegression\n",
    "from sklearn.naive_bayes import MultinomialNB\n",
    "from sklearn.pipeline import Pipeline"
   ]
  },
  {
   "cell_type": "code",
   "execution_count": 2,
   "metadata": {},
   "outputs": [],
   "source": [
    "train = pd.read_csv('train2electricboogaloo.csv')\n",
    "\n",
    "train.Summary.fillna('', inplace=True)\n",
    "train.Text.fillna('', inplace=True)\n",
    "train.SumTxt.fillna('', inplace=True)"
   ]
  },
  {
   "cell_type": "code",
   "execution_count": 3,
   "metadata": {},
   "outputs": [],
   "source": [
    "train_set, test_set = train_test_split(train, test_size = 0.2, random_state = 42, stratify = train['Score'])\n",
    "train_text, train_score = train_set['SumTxt'], train_set['Score']\n",
    "test_text, test_score = test_set['SumTxt'], test_set['Score']"
   ]
  },
  {
   "cell_type": "code",
   "execution_count": 4,
   "metadata": {},
   "outputs": [],
   "source": [
    "stemmer = SnowballStemmer(\"english\")\n",
    "lem = WordNetLemmatizer()\n",
    "stop_words = set(stopwords.words(\"english\"))"
   ]
  },
  {
   "cell_type": "code",
   "execution_count": 5,
   "metadata": {},
   "outputs": [],
   "source": [
    "contractions_dict = { \n",
    "    \"ain\\'t\": \"am not\",\n",
    "    \"aren\\'t\": \"are not\",\n",
    "    \"can\\'t\": \"cannot\",\n",
    "    \"can\\'t\\'ve\": \"cannot have\",\n",
    "    \"\\'cause\": \"because\",\n",
    "    \"could\\'ve\": \"could have\",\n",
    "    \"couldn\\'t\": \"could not\",\n",
    "    \"couldn\\'t\\'ve\": \"could not have\",\n",
    "    \"didn\\'t\": \"did not\",\n",
    "    \"doesn\\'t\": \"does not\",\n",
    "    \"don\\'t\": \"do not\",\n",
    "    \"hadn\\'t\": \"had not\",\n",
    "    \"hadn\\'t\\'ve\": \"had not have\",\n",
    "    \"hasn\\'t\": \"has not\",\n",
    "    \"haven\\'t\": \"have not\",\n",
    "    \"he\\'d\": \"he had\",\n",
    "    \"he\\'d\\'ve\": \"he would have\",\n",
    "    \"he\\'ll\": \"he shall\",\n",
    "    \"he\\'ll\\'ve\": \"he shall have\",\n",
    "    \"he\\'s\": \"he has\",\n",
    "    \"how\\'d\": \"how did\",\n",
    "    \"how\\'d\\'y\": \"how do you\",\n",
    "    \"how\\'ll\": \"how will\",\n",
    "    \"how\\'s\": \"how has\",\n",
    "    \"I\\'d\": \"I had\",\n",
    "    \"I\\'d\\'ve\": \"I would have\",\n",
    "    \"I\\'ll\": \"I will\",\n",
    "    \"I\\'ll\\'ve\": \"I will have\",\n",
    "    \"I\\'m\": \"I am\",\n",
    "    \"I\\'ve\": \"I have\",\n",
    "    \"isn\\'t\": \"is not\",\n",
    "    \"it\\'d\": \"it would\",\n",
    "    \"it\\'d\\'ve\": \"it would have\",\n",
    "    \"it\\'ll\": \"it will\",\n",
    "    \"it\\'ll\\'ve\": \"it will have\",\n",
    "    \"it\\'s\": \"it is\",\n",
    "    \"let\\'s\": \"let us\",\n",
    "    \"ma\\'am\": \"madam\",\n",
    "    \"mayn\\'t\": \"may not\",\n",
    "    \"might\\'ve\": \"might have\",\n",
    "    \"mightn\\'t\": \"might not\",\n",
    "    \"mightn\\'t\\'ve\": \"might not have\",\n",
    "    \"must\\'ve\": \"must have\",\n",
    "    \"mustn\\'t\": \"must not\",\n",
    "    \"mustn\\'t\\'ve\": \"must not have\",\n",
    "    \"needn\\'t\": \"need not\",\n",
    "    \"needn\\'t\\'ve\": \"need not have\",\n",
    "    \"o\\'clock\": \"of the clock\",\n",
    "    \"oughtn\\'t\": \"ought not\",\n",
    "    \"oughtn\\'t\\'ve\": \"ought not have\",\n",
    "    \"shan\\'t\": \"shall not\",\n",
    "    \"sha\\'n\\'t\": \"shall not\",\n",
    "    \"shan\\'t\\'ve\": \"shall not have\",\n",
    "    \"she\\'d\": \"she had\",\n",
    "    \"she\\'d\\'ve\": \"she would have\",\n",
    "    \"she\\'ll\": \"she will\",\n",
    "    \"she\\'ll\\'ve\": \"she will have\",\n",
    "    \"she\\'s\": \"she is\",\n",
    "    \"should\\'ve\": \"should have\",\n",
    "    \"shouldn\\'t\": \"should not\",\n",
    "    \"shouldn\\'t\\'ve\": \"should not have\",\n",
    "    \"so\\'ve\": \"so have\",\n",
    "    \"so\\'s\": \"so as\",\n",
    "    \"that\\'d\": \"that would\",\n",
    "    \"that\\'d\\'ve\": \"that would have\",\n",
    "    \"that\\'s\": \"that is\",\n",
    "    \"there\\'d\": \"there had\",\n",
    "    \"there\\'d\\'ve\": \"there would have\",\n",
    "    \"there\\'s\": \"there has\",\n",
    "    \"they\\'d\": \"they had\",\n",
    "    \"they\\'d\\'ve\": \"they would have\",\n",
    "    \"they\\'ll\": \"they will\",\n",
    "    \"they\\'ll\\'ve\": \"they will have\",\n",
    "    \"they\\'re\": \"they are\",\n",
    "    \"they\\'ve\": \"they have\",\n",
    "    \"to\\'ve\": \"to have\",\n",
    "    \"wasn\\'t\": \"was not\",\n",
    "    \"we\\'d\": \"we had\",\n",
    "    \"we\\'d\\'ve\": \"we would have\",\n",
    "    \"we\\'ll\": \"we will\",\n",
    "    \"we\\'ll\\'ve\": \"we will have\",\n",
    "    \"we\\'re\": \"we are\",\n",
    "    \"we\\'ve\": \"we have\",\n",
    "    \"weren\\'t\": \"were not\",\n",
    "    \"what\\'ll\": \"what will\",\n",
    "    \"what\\'ll\\'ve\": \"what will have\",\n",
    "    \"what\\'re\": \"what are\",\n",
    "    \"what\\'s\": \"what is\",\n",
    "    \"what\\'ve\": \"what have\",\n",
    "    \"when\\'s\": \"when is\",\n",
    "    \"when\\'ve\": \"when have\",\n",
    "    \"where\\'d\": \"where did\",\n",
    "    \"where\\'s\": \"where has\",\n",
    "    \"where\\'ve\": \"where have\",\n",
    "    \"who\\'ll\": \"who will\",\n",
    "    \"who\\'ll\\'ve\": \"who will have\",\n",
    "    \"who\\'s\": \"who is\",\n",
    "    \"who\\'ve\": \"who have\",\n",
    "    \"why\\'s\": \"why is\",\n",
    "    \"why\\'ve\": \"why have\",\n",
    "    \"will\\'ve\": \"will have\",\n",
    "    \"won\\'t\": \"will not\",\n",
    "    \"won\\'t\\'ve\": \"will not have\",\n",
    "    \"would\\'ve\": \"would have\",\n",
    "    \"wouldn\\'t\": \"would not\",\n",
    "    \"wouldn\\'t\\'ve\": \"would not have\",\n",
    "    \"y\\'all\": \"you all\",\n",
    "    \"y\\'all\\'d\": \"you all would\",\n",
    "    \"y\\'all\\'d\\'ve\": \"you all would have\",\n",
    "    \"y\\'all\\'re\": \"you all are\",\n",
    "    \"y\\'all\\'ve\": \"you all have\",\n",
    "    \"you\\'d\": \"you would\",\n",
    "    \"you\\'d\\'ve\": \"you would have\",\n",
    "    \"you\\'ll\": \"you will\",\n",
    "    \"you\\'ll\\'ve\": \"you will have\",\n",
    "    \"you\\'re\": \"you are\",\n",
    "    \"you\\'ve\": \"you have\"\n",
    "}"
   ]
  },
  {
   "cell_type": "code",
   "execution_count": 6,
   "metadata": {},
   "outputs": [],
   "source": [
    "def decontracted(phrase):\n",
    "    phrase = re.sub(r\"n\\'t\", \" not\", phrase)\n",
    "    phrase = re.sub(r\"\\'re\", \" are\", phrase)\n",
    "    phrase = re.sub(r\"\\'s\", \" is\", phrase)\n",
    "    phrase = re.sub(r\"\\'d\", \" would\", phrase)\n",
    "    phrase = re.sub(r\"\\'ll\", \" will\", phrase)\n",
    "    phrase = re.sub(r\"\\'t\", \" not\", phrase)\n",
    "    phrase = re.sub(r\"\\'ve\", \" have\", phrase)\n",
    "    phrase = re.sub(r\"\\'m\", \" am\", phrase)\n",
    "    return phrase"
   ]
  },
  {
   "cell_type": "code",
   "execution_count": 7,
   "metadata": {},
   "outputs": [],
   "source": [
    "def expand_contractions(s, contractions_dict=contractions_dict):\n",
    "    x = [contractions_dict[con] if con in contractions_dict else con for con in s.split()]\n",
    "    x = ' '.join(x)\n",
    "    return decontracted(x)"
   ]
  },
  {
   "cell_type": "code",
   "execution_count": 8,
   "metadata": {},
   "outputs": [],
   "source": [
    "def remove_digits(mess):\n",
    "    return ''.join([i for i in mess if not i.isdigit()])"
   ]
  },
  {
   "cell_type": "code",
   "execution_count": 9,
   "metadata": {},
   "outputs": [],
   "source": [
    "def stm(mess):\n",
    "    return [stemmer.stem(word) for word in mess]"
   ]
  },
  {
   "cell_type": "code",
   "execution_count": 10,
   "metadata": {},
   "outputs": [],
   "source": [
    "def wnl(mess):\n",
    "    return [lem.lemmatize(word) for word in mess]"
   ]
  },
  {
   "cell_type": "code",
   "execution_count": 11,
   "metadata": {},
   "outputs": [],
   "source": [
    "def swr(mess):\n",
    "    return ' '.join([word for word in mess.split() if word.lower() not in stop_words])"
   ]
  },
  {
   "cell_type": "code",
   "execution_count": 12,
   "metadata": {},
   "outputs": [],
   "source": [
    "def punc(mess):\n",
    "    return mess.translate(str.maketrans('', '', string.punctuation))"
   ]
  },
  {
   "cell_type": "code",
   "execution_count": 13,
   "metadata": {},
   "outputs": [],
   "source": [
    "def check_char(mess):\n",
    "    return [word for word in mess.split() if len(word) != 1]"
   ]
  },
  {
   "cell_type": "code",
   "execution_count": 14,
   "metadata": {},
   "outputs": [],
   "source": [
    "def css(mess):\n",
    "    mess = remove_digits(mess) \n",
    "    mess = expand_contractions(mess)\n",
    "    mess = swr(mess)\n",
    "    mess = punc(mess)\n",
    "    mess = check_char(mess)\n",
    "    return stm(mess)"
   ]
  },
  {
   "cell_type": "code",
   "execution_count": 15,
   "metadata": {},
   "outputs": [],
   "source": [
    "def csl(mess):\n",
    "    mess = remove_digits(mess) \n",
    "    mess = expand_contractions(mess)\n",
    "    mess = swr(mess)\n",
    "    mess = punc(mess)\n",
    "    mess = check_char(mess)\n",
    "    return wnl(mess)"
   ]
  },
  {
   "cell_type": "code",
   "execution_count": 16,
   "metadata": {},
   "outputs": [],
   "source": [
    "def nss(mess):\n",
    "    mess = remove_digits(mess) \n",
    "    mess = swr(mess)\n",
    "    mess = punc(mess)\n",
    "    mess = check_char(mess)\n",
    "    return stm(mess)"
   ]
  },
  {
   "cell_type": "code",
   "execution_count": 17,
   "metadata": {},
   "outputs": [],
   "source": [
    "def nsl(mess):\n",
    "    mess = remove_digits(mess) \n",
    "    mess = swr(mess)\n",
    "    mess = punc(mess)\n",
    "    mess = check_char(mess)\n",
    "    return wnl(mess)"
   ]
  },
  {
   "cell_type": "code",
   "execution_count": 18,
   "metadata": {},
   "outputs": [],
   "source": [
    "def cns(mess):\n",
    "    mess = remove_digits(mess) \n",
    "    mess = expand_contractions(mess)\n",
    "    mess = punc(mess)\n",
    "    mess = check_char(mess)\n",
    "    return ' '.join(stm(mess))"
   ]
  },
  {
   "cell_type": "code",
   "execution_count": 19,
   "metadata": {},
   "outputs": [],
   "source": [
    "def cnl(mess):\n",
    "    mess = remove_digits(mess) \n",
    "    mess = expand_contractions(mess)\n",
    "    mess = punc(mess)\n",
    "    mess = check_char(mess)\n",
    "    return wnl(mess)"
   ]
  },
  {
   "cell_type": "code",
   "execution_count": 20,
   "metadata": {},
   "outputs": [],
   "source": [
    "def nns(mess):\n",
    "    mess = remove_digits(mess) \n",
    "    mess = punc(mess)\n",
    "    mess = check_char(mess)\n",
    "    return stm(mess)"
   ]
  },
  {
   "cell_type": "code",
   "execution_count": 21,
   "metadata": {},
   "outputs": [],
   "source": [
    "def nnl(mess):\n",
    "    mess = remove_digits(mess) \n",
    "    mess = punc(mess)\n",
    "    mess = check_char(mess)\n",
    "    return wnl(mess)"
   ]
  },
  {
   "cell_type": "code",
   "execution_count": 22,
   "metadata": {},
   "outputs": [],
   "source": [
    "#Following done"
   ]
  },
  {
   "cell_type": "code",
   "execution_count": 23,
   "metadata": {},
   "outputs": [],
   "source": [
    "# s = Pipeline([\n",
    "#     ('tfidf', TfidfVectorizer(analyzer = nsl)),\n",
    "#     ('svm', LinearSVC())\n",
    "# ])"
   ]
  },
  {
   "cell_type": "code",
   "execution_count": 24,
   "metadata": {},
   "outputs": [],
   "source": [
    "# param_grid_s = {#'tfidf__analyzer': [css, csl],\n",
    "# #               'tfidf__max_df': [0.8, 0.9, 1],\n",
    "#               'tfidf__min_df': [0.1, 0.2],\n",
    "# #               'tfidf__max_features': [50000, None],\n",
    "#               'tfidf__binary': [True, False],\n",
    "# #               'tfidf__norm': ['l1', 'l2', None],\n",
    "#               'tfidf__use_idf': [True, False],\n",
    "#               'svm__C': [1, 10, 100],\n",
    "# #               'svm__loss': ['hinge']\n",
    "#              }"
   ]
  },
  {
   "cell_type": "code",
   "execution_count": 25,
   "metadata": {},
   "outputs": [],
   "source": [
    "# grid_s = GridSearchCV(s, param_grid_s, n_jobs = 7, cv = 5)\n",
    "\n",
    "#best_params = {'svm__C': 10, 'tfidf__binary': False, 'tfidf__min_df': 0.1, 'tfidf__use_idf': True}\n",
    "\n",
    "# #              precision    recall  f1-score   support\n",
    "\n",
    "#            1       0.37      0.01      0.03      7838\n",
    "#            2       0.00      0.00      0.00      4471\n",
    "#            3       0.00      0.00      0.00      6399\n",
    "#            4       0.27      0.00      0.00     12062\n",
    "#            5       0.64      1.00      0.78     54498\n",
    "\n",
    "#     accuracy                           0.64     85268\n",
    "#    macro avg       0.26      0.20      0.16     85268\n",
    "# weighted avg       0.48      0.64      0.50     85268"
   ]
  },
  {
   "cell_type": "code",
   "execution_count": 26,
   "metadata": {},
   "outputs": [],
   "source": [
    "# s2 = Pipeline([\n",
    "#     ('tfidf', TfidfVectorizer(strip_accents='unicode', analyzer='word', min_df=0.1, max_df=0.8)),\n",
    "#     ('svm', LinearSVC(loss = 'hinge', C = 10))\n",
    "# ])\n",
    "\n",
    "# param_grid_s2 = {#'tfidf__analyzer': [css, csl],\n",
    "# #               'tfidf__max_df': [0.8, 0.9, 1],\n",
    "# #               'tfidf__min_df': [0.1, 0.2],\n",
    "# #               'tfidf__max_features': [50000, None],\n",
    "# #               'tfidf__binary': [True, False],\n",
    "# #               'tfidf__norm': ['l1', 'l2', None],\n",
    "# #               'tfidf__use_idf': [True, False],\n",
    "# #               'svm__C': [1, 10, 100],\n",
    "# #               'svm__loss': ['hinge']\n",
    "#                 'tfidf__ngram_range': [(1,1), (1,2), (2,2)]\n",
    "#              }\n",
    "\n",
    "# grid_s2 = GridSearchCV(s2, param_grid_s2, n_jobs = 6)\n",
    "\n",
    "# best params = {'tfidf__ngram_range': (1, 1)}\n",
    "\n",
    "#               precision    recall  f1-score   support\n",
    "\n",
    "#            1       0.47      0.02      0.04      7838\n",
    "#            2       0.26      0.00      0.01      4471\n",
    "#            3       0.24      0.11      0.15      6399\n",
    "#            4       0.19      0.05      0.08     12062\n",
    "#            5       0.68      0.98      0.80     54498\n",
    "\n",
    "#     accuracy                           0.64     85268\n",
    "#    macro avg       0.37      0.23      0.22     85268\n",
    "# weighted avg       0.53      0.64      0.54     85268"
   ]
  },
  {
   "cell_type": "code",
   "execution_count": 27,
   "metadata": {},
   "outputs": [],
   "source": [
    "s = Pipeline([\n",
    "    ('tfidf', TfidfVectorizer(strip_accents='unicode', analyzer='word', min_df=0.1, max_df=0.8, preprocessor=cns)),\n",
    "    ('svm', LinearSVC(loss = 'hinge', C = 10))\n",
    "])"
   ]
  },
  {
   "cell_type": "code",
   "execution_count": 28,
   "metadata": {},
   "outputs": [],
   "source": [
    "param_grid_s = {#'tfidf__analyzer': [css, csl],\n",
    "#               'tfidf__max_df': [0.8, 0.9, 1],\n",
    "#               'tfidf__min_df': [0.1, 0.2],\n",
    "#               'tfidf__max_features': [50000, None],\n",
    "#               'tfidf__binary': [True, False],\n",
    "#               'tfidf__norm': ['l1', 'l2', None],\n",
    "#               'tfidf__use_idf': [True, False],\n",
    "#               'svm__C': [1, 10, 100],\n",
    "#               'svm__loss': ['hinge']\n",
    "                'tfidf__ngram_range': [(1,1), (1,2), (1, 3), (2,2), (3,3)]\n",
    "             }"
   ]
  },
  {
   "cell_type": "code",
   "execution_count": 29,
   "metadata": {},
   "outputs": [],
   "source": [
    "grid_s = GridSearchCV(s, param_grid_s, cv = 5, n_jobs = -1)"
   ]
  },
  {
   "cell_type": "code",
   "execution_count": 30,
   "metadata": {},
   "outputs": [
    {
     "name": "stderr",
     "output_type": "stream",
     "text": [
      "/home/swagmaster/anaconda3/envs/atab/lib/python3.7/site-packages/sklearn/svm/_base.py:947: ConvergenceWarning: Liblinear failed to converge, increase the number of iterations.\n",
      "  \"the number of iterations.\", ConvergenceWarning)\n"
     ]
    },
    {
     "data": {
      "text/plain": [
       "GridSearchCV(cv=5, error_score=nan,\n",
       "             estimator=Pipeline(memory=None,\n",
       "                                steps=[('tfidf',\n",
       "                                        TfidfVectorizer(analyzer='word',\n",
       "                                                        binary=False,\n",
       "                                                        decode_error='strict',\n",
       "                                                        dtype=<class 'numpy.float64'>,\n",
       "                                                        encoding='utf-8',\n",
       "                                                        input='content',\n",
       "                                                        lowercase=True,\n",
       "                                                        max_df=0.8,\n",
       "                                                        max_features=None,\n",
       "                                                        min_df=0.1,\n",
       "                                                        ngram_range=(1, 1),\n",
       "                                                        norm='l2',\n",
       "                                                        preprocessor=<function cns at 0x7f6daa0c2c20>,\n",
       "                                                        smooth_idf=Tru...\n",
       "                                        LinearSVC(C=10, class_weight=None,\n",
       "                                                  dual=True, fit_intercept=True,\n",
       "                                                  intercept_scaling=1,\n",
       "                                                  loss='hinge', max_iter=1000,\n",
       "                                                  multi_class='ovr',\n",
       "                                                  penalty='l2',\n",
       "                                                  random_state=None, tol=0.0001,\n",
       "                                                  verbose=0))],\n",
       "                                verbose=False),\n",
       "             iid='deprecated', n_jobs=-1,\n",
       "             param_grid={'tfidf__ngram_range': [(1, 1), (1, 2), (1, 3), (2, 2),\n",
       "                                                (3, 3)]},\n",
       "             pre_dispatch='2*n_jobs', refit=True, return_train_score=False,\n",
       "             scoring=None, verbose=0)"
      ]
     },
     "execution_count": 30,
     "metadata": {},
     "output_type": "execute_result"
    }
   ],
   "source": [
    "grid_s.fit(train_text, train_score)"
   ]
  },
  {
   "cell_type": "code",
   "execution_count": 31,
   "metadata": {},
   "outputs": [
    {
     "name": "stdout",
     "output_type": "stream",
     "text": [
      "{'tfidf__ngram_range': (1, 2)}\n"
     ]
    }
   ],
   "source": [
    "print(grid_s.best_params_)"
   ]
  },
  {
   "cell_type": "code",
   "execution_count": 32,
   "metadata": {},
   "outputs": [
    {
     "name": "stdout",
     "output_type": "stream",
     "text": [
      "0.644 (+/-0.004) for {'tfidf__ngram_range': (1, 1)}\n",
      "0.645 (+/-0.002) for {'tfidf__ngram_range': (1, 2)}\n",
      "0.644 (+/-0.004) for {'tfidf__ngram_range': (1, 3)}\n",
      "0.635 (+/-0.002) for {'tfidf__ngram_range': (2, 2)}\n",
      "nan (+/-nan) for {'tfidf__ngram_range': (3, 3)}\n"
     ]
    }
   ],
   "source": [
    "means = grid_s.cv_results_['mean_test_score']\n",
    "stds = grid_s.cv_results_['std_test_score']\n",
    "for mean, std, params in zip(means, stds, grid_s.cv_results_['params']):\n",
    "    print(\"%0.3f (+/-%0.03f) for %r\"\n",
    "            % (mean, std * 2, params))"
   ]
  },
  {
   "cell_type": "code",
   "execution_count": 34,
   "metadata": {},
   "outputs": [],
   "source": [
    "pred_s = grid_s.predict(test_text)"
   ]
  },
  {
   "cell_type": "code",
   "execution_count": 35,
   "metadata": {},
   "outputs": [
    {
     "name": "stdout",
     "output_type": "stream",
     "text": [
      "              precision    recall  f1-score   support\n",
      "\n",
      "           1       0.26      0.11      0.15      7838\n",
      "           2       0.22      0.01      0.02      4471\n",
      "           3       0.28      0.05      0.09      6399\n",
      "           4       0.19      0.04      0.06     12062\n",
      "           5       0.68      0.98      0.80     54498\n",
      "\n",
      "    accuracy                           0.65     85268\n",
      "   macro avg       0.33      0.24      0.23     85268\n",
      "weighted avg       0.52      0.65      0.54     85268\n",
      "\n"
     ]
    }
   ],
   "source": [
    "print(classification_report(test_score, pred_s))"
   ]
  },
  {
   "cell_type": "code",
   "execution_count": null,
   "metadata": {},
   "outputs": [],
   "source": [
    "s2 = Pipeline([\n",
    "    ('tfidf', TfidfVectorizer(strip_accents='unicode', analyzer='word', min_df=0.1, max_df=0.8, preprocessor=cnl)),\n",
    "    ('svm', LinearSVC(loss = 'hinge', C = 10))\n",
    "])"
   ]
  },
  {
   "cell_type": "code",
   "execution_count": null,
   "metadata": {},
   "outputs": [],
   "source": [
    "param_grid_s2 = {#'tfidf__analyzer': [css, csl],\n",
    "#               'tfidf__max_df': [0.8, 0.9, 1],\n",
    "#               'tfidf__min_df': [0.1, 0.2],\n",
    "#               'tfidf__max_features': [50000, None],\n",
    "#               'tfidf__binary': [True, False],\n",
    "#               'tfidf__norm': ['l1', 'l2', None],\n",
    "#               'tfidf__use_idf': [True, False],\n",
    "#               'svm__C': [1, 10, 100],\n",
    "#               'svm__loss': ['hinge']\n",
    "                'tfidf__ngram_range': [(1,1), (1,2), (1, 3), (2,2), (3,3)]\n",
    "             }"
   ]
  },
  {
   "cell_type": "code",
   "execution_count": null,
   "metadata": {},
   "outputs": [],
   "source": [
    "grid_s2 = GridSearchCV(s2, param_grid_s2, cv = 5, n_jobs = -1)"
   ]
  },
  {
   "cell_type": "code",
   "execution_count": null,
   "metadata": {},
   "outputs": [],
   "source": [
    "grid_s2.fit(train_text, train_score)"
   ]
  },
  {
   "cell_type": "code",
   "execution_count": null,
   "metadata": {},
   "outputs": [],
   "source": [
    "print(grid_s2.best_params_)"
   ]
  },
  {
   "cell_type": "code",
   "execution_count": null,
   "metadata": {},
   "outputs": [],
   "source": [
    "means = grid_s2.cv_results_['mean_test_score']\n",
    "stds = grid_s2.cv_results_['std_test_score']\n",
    "for mean, std, params in zip(means, stds, grid_s2.cv_results_['params']):\n",
    "    print(\"%0.3f (+/-%0.03f) for %r\"\n",
    "            % (mean, std * 2, params))"
   ]
  },
  {
   "cell_type": "code",
   "execution_count": null,
   "metadata": {},
   "outputs": [],
   "source": [
    "pred_s2 = grid_s2.predict(test_text)"
   ]
  },
  {
   "cell_type": "code",
   "execution_count": null,
   "metadata": {},
   "outputs": [],
   "source": [
    "print(classification_report(test_score, pred_s2))"
   ]
  }
 ],
 "metadata": {
  "kernelspec": {
   "display_name": "Python 3",
   "language": "python",
   "name": "python3"
  },
  "language_info": {
   "codemirror_mode": {
    "name": "ipython",
    "version": 3
   },
   "file_extension": ".py",
   "mimetype": "text/x-python",
   "name": "python",
   "nbconvert_exporter": "python",
   "pygments_lexer": "ipython3",
   "version": "3.7.6"
  }
 },
 "nbformat": 4,
 "nbformat_minor": 2
}
